{
  "nbformat": 4,
  "nbformat_minor": 0,
  "metadata": {
    "colab": {
      "name": "Untitled0.ipynb",
      "provenance": [],
      "toc_visible": true,
      "authorship_tag": "ABX9TyN2hSt5TpnNTzc+YTxcBW8Y",
      "include_colab_link": true
    },
    "kernelspec": {
      "name": "python3",
      "display_name": "Python 3"
    }
  },
  "cells": [
    {
      "cell_type": "markdown",
      "metadata": {
        "id": "view-in-github",
        "colab_type": "text"
      },
      "source": [
        "<a href=\"https://colab.research.google.com/github/Falconwatch/hackaton/blob/master/Untitled0.ipynb\" target=\"_parent\"><img src=\"https://colab.research.google.com/assets/colab-badge.svg\" alt=\"Open In Colab\"/></a>"
      ]
    },
    {
      "cell_type": "code",
      "metadata": {
        "id": "n2THwJJ4hfRl",
        "colab_type": "code",
        "colab": {}
      },
      "source": [
        "import pandas as pd\n",
        "import numpy as np"
      ],
      "execution_count": 0,
      "outputs": []
    },
    {
      "cell_type": "markdown",
      "metadata": {
        "id": "-iQApNVfmbjm",
        "colab_type": "text"
      },
      "source": [
        "# Читаем данные"
      ]
    },
    {
      "cell_type": "code",
      "metadata": {
        "id": "5OoV0gvihqV9",
        "colab_type": "code",
        "colab": {}
      },
      "source": [
        "goods = pd.read_parquet('goods_final.parquet')\n",
        "bads = pd.read_parquet('bads_fixed.parquet')"
      ],
      "execution_count": 0,
      "outputs": []
    },
    {
      "cell_type": "code",
      "metadata": {
        "id": "7HuMkDtLVm5Q",
        "colab_type": "code",
        "colab": {
          "base_uri": "https://localhost:8080/",
          "height": 34
        },
        "outputId": "2bce8ca3-0a59-4dad-a974-4034d3c3e27c"
      },
      "source": [
        "bads['address'][0]"
      ],
      "execution_count": 43,
      "outputs": [
        {
          "output_type": "execute_result",
          "data": {
            "text/plain": [
              "'115280, г. Москва, ул. Восточная, д. 9 этаж 1 пом. IV ком. 1'"
            ]
          },
          "metadata": {
            "tags": []
          },
          "execution_count": 43
        }
      ]
    },
    {
      "cell_type": "code",
      "metadata": {
        "id": "cwuGwMNMquaU",
        "colab_type": "code",
        "colab": {
          "base_uri": "https://localhost:8080/",
          "height": 230
        },
        "outputId": "f979c45a-17c5-4493-e050-51dc8e1827da"
      },
      "source": [
        "goods['address']"
      ],
      "execution_count": 42,
      "outputs": [
        {
          "output_type": "execute_result",
          "data": {
            "text/plain": [
              "0                        115054, Москва, Пятницкая, 71\\5, 3\n",
              "1          115054, г. Москва, пер. Монетчиковский 5-й, 2...\n",
              "2                           115516, Москва, Бехтерева, 2, 1\n",
              "3          117279, г. Москва, ул. Миклухо-Маклая, д.34, ...\n",
              "4                  127083, Москва, ул. Масловка В, 20, 1, 6\n",
              "                                ...                        \n",
              "863418    ярославский проезд улица, дом 3, Королев, Моск...\n",
              "863419                        ярославское шоссе 103, Москва\n",
              "863420                        ярославское шоссе 103, Москва\n",
              "863421    ярославское шоссе 146 корп 2, Ярославский, Москва\n",
              "863422    ярославское шоссе 146 корп 2, Ярославский, Москва\n",
              "Name: address, Length: 863361, dtype: object"
            ]
          },
          "metadata": {
            "tags": []
          },
          "execution_count": 42
        }
      ]
    },
    {
      "cell_type": "markdown",
      "metadata": {
        "id": "OzuzEvUIVn_j",
        "colab_type": "text"
      },
      "source": [
        "# Сборщик статистики"
      ]
    },
    {
      "cell_type": "code",
      "metadata": {
        "id": "SxwP97mbVrEd",
        "colab_type": "code",
        "colab": {}
      },
      "source": [
        "def geature_generator(bads_data, goods_data, splitter):\n",
        "  goods_features = goods['address'].apply(splitter)\n",
        "  bads_features = bads['address'].apply(splitter)\n",
        "\n",
        "  good_words, good_counts = np.unique(np.concatenate(goods_features.values), return_counts=True)\n",
        "  bad_words, bad_counts = np.unique(np.concatenate(bads_features.values), return_counts=True)\n",
        "\n",
        "  vocab =dict()\n",
        "  for gw, gc in zip(good_words, good_counts):\n",
        "    vocab[gw] = [gc, 0]\n",
        "\n",
        "\n",
        "  for bw, bc in zip(bad_words, bad_counts):\n",
        "    if bw in vocab:\n",
        "      vocab[bw] = [vocab[bw][0], bc]\n",
        "    else:\n",
        "      vocab[bw] = [0, bc]\n",
        "  \n",
        "  vocab_stats = pd.DataFrame.from_dict(vocab, orient='index').reset_index()\n",
        "  vocab_stats.columns = ['feature', 'in_good', 'in_bad']  \n",
        "  return vocab_stats"
      ],
      "execution_count": 0,
      "outputs": []
    },
    {
      "cell_type": "markdown",
      "metadata": {
        "id": "gPTyTOcDmiDB",
        "colab_type": "text"
      },
      "source": [
        "# Сплитим адресс по запятой"
      ]
    },
    {
      "cell_type": "code",
      "metadata": {
        "id": "npd5D-3Xjt4T",
        "colab_type": "code",
        "colab": {}
      },
      "source": [
        "def split_address(adr):\n",
        "  return [w.strip().lower() for w in adr.split(',')]"
      ],
      "execution_count": 0,
      "outputs": []
    },
    {
      "cell_type": "code",
      "metadata": {
        "id": "PShgkSkZVvOv",
        "colab_type": "code",
        "colab": {}
      },
      "source": [
        "coma_stats = geature_generator(bads, goods, split_address)"
      ],
      "execution_count": 0,
      "outputs": []
    },
    {
      "cell_type": "code",
      "metadata": {
        "id": "edtjBYXrRVew",
        "colab_type": "code",
        "colab": {}
      },
      "source": [
        "#встречаются только в плохих\n",
        "seen_only_in_bad_coma = coma_stats[coma_stats['in_good']==0]"
      ],
      "execution_count": 0,
      "outputs": []
    },
    {
      "cell_type": "code",
      "metadata": {
        "id": "cW_0EaTNSz3l",
        "colab_type": "code",
        "outputId": "a8ea8f10-bfc7-4f61-f224-fe40423b2e81",
        "colab": {
          "base_uri": "https://localhost:8080/",
          "height": 947
        }
      },
      "source": [
        "seen_only_in_bad_coma.sort_values(by=['in_bad'], ascending=False)[:30]"
      ],
      "execution_count": 37,
      "outputs": [
        {
          "output_type": "execute_result",
          "data": {
            "text/html": [
              "<div>\n",
              "<style scoped>\n",
              "    .dataframe tbody tr th:only-of-type {\n",
              "        vertical-align: middle;\n",
              "    }\n",
              "\n",
              "    .dataframe tbody tr th {\n",
              "        vertical-align: top;\n",
              "    }\n",
              "\n",
              "    .dataframe thead th {\n",
              "        text-align: right;\n",
              "    }\n",
              "</style>\n",
              "<table border=\"1\" class=\"dataframe\">\n",
              "  <thead>\n",
              "    <tr style=\"text-align: right;\">\n",
              "      <th></th>\n",
              "      <th>feature</th>\n",
              "      <th>in_good</th>\n",
              "      <th>in_bad</th>\n",
              "    </tr>\n",
              "  </thead>\n",
              "  <tbody>\n",
              "    <tr>\n",
              "      <th>287926</th>\n",
              "      <td>пом. i</td>\n",
              "      <td>0</td>\n",
              "      <td>6355</td>\n",
              "    </tr>\n",
              "    <tr>\n",
              "      <th>264836</th>\n",
              "      <td>корп. 2</td>\n",
              "      <td>0</td>\n",
              "      <td>3916</td>\n",
              "    </tr>\n",
              "    <tr>\n",
              "      <th>260167</th>\n",
              "      <td>ком. 1</td>\n",
              "      <td>0</td>\n",
              "      <td>2964</td>\n",
              "    </tr>\n",
              "    <tr>\n",
              "      <th>288055</th>\n",
              "      <td>пом. ii</td>\n",
              "      <td>0</td>\n",
              "      <td>2949</td>\n",
              "    </tr>\n",
              "    <tr>\n",
              "      <th>269600</th>\n",
              "      <td>м. речной вокзал</td>\n",
              "      <td>0</td>\n",
              "      <td>2559</td>\n",
              "    </tr>\n",
              "    <tr>\n",
              "      <th>264991</th>\n",
              "      <td>корп. 3</td>\n",
              "      <td>0</td>\n",
              "      <td>2046</td>\n",
              "    </tr>\n",
              "    <tr>\n",
              "      <th>269116</th>\n",
              "      <td>м. вднх</td>\n",
              "      <td>0</td>\n",
              "      <td>2003</td>\n",
              "    </tr>\n",
              "    <tr>\n",
              "      <th>261095</th>\n",
              "      <td>ком. 2</td>\n",
              "      <td>0</td>\n",
              "      <td>2002</td>\n",
              "    </tr>\n",
              "    <tr>\n",
              "      <th>288120</th>\n",
              "      <td>пом. iii</td>\n",
              "      <td>0</td>\n",
              "      <td>2001</td>\n",
              "    </tr>\n",
              "    <tr>\n",
              "      <th>261523</th>\n",
              "      <td>ком. 3</td>\n",
              "      <td>0</td>\n",
              "      <td>1937</td>\n",
              "    </tr>\n",
              "    <tr>\n",
              "      <th>275784</th>\n",
              "      <td>нао (новомосковский)</td>\n",
              "      <td>0</td>\n",
              "      <td>1830</td>\n",
              "    </tr>\n",
              "    <tr>\n",
              "      <th>288191</th>\n",
              "      <td>пом. iv</td>\n",
              "      <td>0</td>\n",
              "      <td>1762</td>\n",
              "    </tr>\n",
              "    <tr>\n",
              "      <th>269009</th>\n",
              "      <td>м. алтуфьево</td>\n",
              "      <td>0</td>\n",
              "      <td>1748</td>\n",
              "    </tr>\n",
              "    <tr>\n",
              "      <th>269499</th>\n",
              "      <td>м. павелецкая</td>\n",
              "      <td>0</td>\n",
              "      <td>1730</td>\n",
              "    </tr>\n",
              "    <tr>\n",
              "      <th>269047</th>\n",
              "      <td>м. бауманская</td>\n",
              "      <td>0</td>\n",
              "      <td>1715</td>\n",
              "    </tr>\n",
              "    <tr>\n",
              "      <th>269823</th>\n",
              "      <td>м. щелковская</td>\n",
              "      <td>0</td>\n",
              "      <td>1629</td>\n",
              "    </tr>\n",
              "    <tr>\n",
              "      <th>269842</th>\n",
              "      <td>м. юго-западная</td>\n",
              "      <td>0</td>\n",
              "      <td>1619</td>\n",
              "    </tr>\n",
              "    <tr>\n",
              "      <th>261862</th>\n",
              "      <td>ком. 4</td>\n",
              "      <td>0</td>\n",
              "      <td>1589</td>\n",
              "    </tr>\n",
              "    <tr>\n",
              "      <th>269060</th>\n",
              "      <td>м. белорусская</td>\n",
              "      <td>0</td>\n",
              "      <td>1558</td>\n",
              "    </tr>\n",
              "    <tr>\n",
              "      <th>269692</th>\n",
              "      <td>м. таганская</td>\n",
              "      <td>0</td>\n",
              "      <td>1556</td>\n",
              "    </tr>\n",
              "    <tr>\n",
              "      <th>288325</th>\n",
              "      <td>пом. v</td>\n",
              "      <td>0</td>\n",
              "      <td>1479</td>\n",
              "    </tr>\n",
              "    <tr>\n",
              "      <th>286804</th>\n",
              "      <td>пом. 1</td>\n",
              "      <td>0</td>\n",
              "      <td>1442</td>\n",
              "    </tr>\n",
              "    <tr>\n",
              "      <th>269259</th>\n",
              "      <td>м. котельники</td>\n",
              "      <td>0</td>\n",
              "      <td>1400</td>\n",
              "    </tr>\n",
              "    <tr>\n",
              "      <th>255125</th>\n",
              "      <td>к. 1</td>\n",
              "      <td>0</td>\n",
              "      <td>1358</td>\n",
              "    </tr>\n",
              "    <tr>\n",
              "      <th>196653</th>\n",
              "      <td>б/н</td>\n",
              "      <td>0</td>\n",
              "      <td>1327</td>\n",
              "    </tr>\n",
              "    <tr>\n",
              "      <th>269655</th>\n",
              "      <td>м. смоленская</td>\n",
              "      <td>0</td>\n",
              "      <td>1317</td>\n",
              "    </tr>\n",
              "    <tr>\n",
              "      <th>288365</th>\n",
              "      <td>пом. vi</td>\n",
              "      <td>0</td>\n",
              "      <td>1252</td>\n",
              "    </tr>\n",
              "    <tr>\n",
              "      <th>269362</th>\n",
              "      <td>м. молодежная</td>\n",
              "      <td>0</td>\n",
              "      <td>1242</td>\n",
              "    </tr>\n",
              "    <tr>\n",
              "      <th>269338</th>\n",
              "      <td>м. маяковская</td>\n",
              "      <td>0</td>\n",
              "      <td>1223</td>\n",
              "    </tr>\n",
              "    <tr>\n",
              "      <th>269535</th>\n",
              "      <td>м. планерная</td>\n",
              "      <td>0</td>\n",
              "      <td>1220</td>\n",
              "    </tr>\n",
              "  </tbody>\n",
              "</table>\n",
              "</div>"
            ],
            "text/plain": [
              "                     feature  in_good  in_bad\n",
              "287926                пом. i        0    6355\n",
              "264836               корп. 2        0    3916\n",
              "260167                ком. 1        0    2964\n",
              "288055               пом. ii        0    2949\n",
              "269600      м. речной вокзал        0    2559\n",
              "264991               корп. 3        0    2046\n",
              "269116               м. вднх        0    2003\n",
              "261095                ком. 2        0    2002\n",
              "288120              пом. iii        0    2001\n",
              "261523                ком. 3        0    1937\n",
              "275784  нао (новомосковский)        0    1830\n",
              "288191               пом. iv        0    1762\n",
              "269009          м. алтуфьево        0    1748\n",
              "269499         м. павелецкая        0    1730\n",
              "269047         м. бауманская        0    1715\n",
              "269823         м. щелковская        0    1629\n",
              "269842       м. юго-западная        0    1619\n",
              "261862                ком. 4        0    1589\n",
              "269060        м. белорусская        0    1558\n",
              "269692          м. таганская        0    1556\n",
              "288325                пом. v        0    1479\n",
              "286804                пом. 1        0    1442\n",
              "269259         м. котельники        0    1400\n",
              "255125                  к. 1        0    1358\n",
              "196653                   б/н        0    1327\n",
              "269655         м. смоленская        0    1317\n",
              "288365               пом. vi        0    1252\n",
              "269362         м. молодежная        0    1242\n",
              "269338         м. маяковская        0    1223\n",
              "269535          м. планерная        0    1220"
            ]
          },
          "metadata": {
            "tags": []
          },
          "execution_count": 37
        }
      ]
    },
    {
      "cell_type": "code",
      "metadata": {
        "id": "K_Uh_lMGqLRb",
        "colab_type": "code",
        "colab": {
          "base_uri": "https://localhost:8080/",
          "height": 406
        },
        "outputId": "04c8c24f-fc52-4458-f2fd-74db427e2b18"
      },
      "source": [
        "coma_stats[coma_stats['in_bad']==0].sort_values('in_good', ascending=False)"
      ],
      "execution_count": 41,
      "outputs": [
        {
          "output_type": "execute_result",
          "data": {
            "text/html": [
              "<div>\n",
              "<style scoped>\n",
              "    .dataframe tbody tr th:only-of-type {\n",
              "        vertical-align: middle;\n",
              "    }\n",
              "\n",
              "    .dataframe tbody tr th {\n",
              "        vertical-align: top;\n",
              "    }\n",
              "\n",
              "    .dataframe thead th {\n",
              "        text-align: right;\n",
              "    }\n",
              "</style>\n",
              "<table border=\"1\" class=\"dataframe\">\n",
              "  <thead>\n",
              "    <tr style=\"text-align: right;\">\n",
              "      <th></th>\n",
              "      <th>feature</th>\n",
              "      <th>in_good</th>\n",
              "      <th>in_bad</th>\n",
              "    </tr>\n",
              "  </thead>\n",
              "  <tbody>\n",
              "    <tr>\n",
              "      <th>28759</th>\n",
              "      <td>академическая б. ул</td>\n",
              "      <td>324</td>\n",
              "      <td>0</td>\n",
              "    </tr>\n",
              "    <tr>\n",
              "      <th>22980</th>\n",
              "      <td>5 с1</td>\n",
              "      <td>200</td>\n",
              "      <td>0</td>\n",
              "    </tr>\n",
              "    <tr>\n",
              "      <th>93622</th>\n",
              "      <td>микрорайон салтыковка</td>\n",
              "      <td>195</td>\n",
              "      <td>0</td>\n",
              "    </tr>\n",
              "    <tr>\n",
              "      <th>94297</th>\n",
              "      <td>мичуринский олимпийская деревня пр-кт</td>\n",
              "      <td>160</td>\n",
              "      <td>0</td>\n",
              "    </tr>\n",
              "    <tr>\n",
              "      <th>152306</th>\n",
              "      <td>сущёвский вал ул</td>\n",
              "      <td>152</td>\n",
              "      <td>0</td>\n",
              "    </tr>\n",
              "    <tr>\n",
              "      <th>...</th>\n",
              "      <td>...</td>\n",
              "      <td>...</td>\n",
              "      <td>...</td>\n",
              "    </tr>\n",
              "    <tr>\n",
              "      <th>126449</th>\n",
              "      <td>россия 125475 г. москва г москва ул левобережн...</td>\n",
              "      <td>1</td>\n",
              "      <td>0</td>\n",
              "    </tr>\n",
              "    <tr>\n",
              "      <th>126450</th>\n",
              "      <td>россия 125475 г. москва северный г москва ул д...</td>\n",
              "      <td>1</td>\n",
              "      <td>0</td>\n",
              "    </tr>\n",
              "    <tr>\n",
              "      <th>126451</th>\n",
              "      <td>россия 125475 г. москва северный г москва ул з...</td>\n",
              "      <td>1</td>\n",
              "      <td>0</td>\n",
              "    </tr>\n",
              "    <tr>\n",
              "      <th>126452</th>\n",
              "      <td>россия 125475 г. москва северный г москва ул м...</td>\n",
              "      <td>1</td>\n",
              "      <td>0</td>\n",
              "    </tr>\n",
              "    <tr>\n",
              "      <th>1</th>\n",
              "      <td>\"108841</td>\n",
              "      <td>1</td>\n",
              "      <td>0</td>\n",
              "    </tr>\n",
              "  </tbody>\n",
              "</table>\n",
              "<p>144490 rows × 3 columns</p>\n",
              "</div>"
            ],
            "text/plain": [
              "                                                  feature  in_good  in_bad\n",
              "28759                                 академическая б. ул      324       0\n",
              "22980                                                5 с1      200       0\n",
              "93622                               микрорайон салтыковка      195       0\n",
              "94297               мичуринский олимпийская деревня пр-кт      160       0\n",
              "152306                                   сущёвский вал ул      152       0\n",
              "...                                                   ...      ...     ...\n",
              "126449  россия 125475 г. москва г москва ул левобережн...        1       0\n",
              "126450  россия 125475 г. москва северный г москва ул д...        1       0\n",
              "126451  россия 125475 г. москва северный г москва ул з...        1       0\n",
              "126452  россия 125475 г. москва северный г москва ул м...        1       0\n",
              "1                                                 \"108841        1       0\n",
              "\n",
              "[144490 rows x 3 columns]"
            ]
          },
          "metadata": {
            "tags": []
          },
          "execution_count": 41
        }
      ]
    },
    {
      "cell_type": "markdown",
      "metadata": {
        "id": "tppCf_GkUPNT",
        "colab_type": "text"
      },
      "source": [
        "# попробуем сплит по пробелу"
      ]
    },
    {
      "cell_type": "code",
      "metadata": {
        "id": "dSEMwsoVVALN",
        "colab_type": "code",
        "colab": {}
      },
      "source": [
        "def split_address_ws(adr):\n",
        "  return [w.strip().lower() for w in adr.split(' ')]"
      ],
      "execution_count": 0,
      "outputs": []
    },
    {
      "cell_type": "code",
      "metadata": {
        "id": "8BkuLVoqVV1S",
        "colab_type": "code",
        "colab": {}
      },
      "source": [
        "ws_stats = geature_generator(bads, goods, split_address_ws)"
      ],
      "execution_count": 0,
      "outputs": []
    },
    {
      "cell_type": "code",
      "metadata": {
        "id": "PICl6qerWDH1",
        "colab_type": "code",
        "colab": {}
      },
      "source": [
        "#встречаются только в плохих\n",
        "seen_only_in_bad_ws = ws_stats[ws_stats['in_good']==0]"
      ],
      "execution_count": 0,
      "outputs": []
    },
    {
      "cell_type": "code",
      "metadata": {
        "id": "jljZZPr_WEpI",
        "colab_type": "code",
        "outputId": "154ed77b-bdac-4a1b-934f-59ab6bd419bf",
        "colab": {
          "base_uri": "https://localhost:8080/",
          "height": 947
        }
      },
      "source": [
        "seen_only_in_bad_ws.sort_values(by=['in_bad'], ascending=False)[:30]"
      ],
      "execution_count": 25,
      "outputs": [
        {
          "output_type": "execute_result",
          "data": {
            "text/html": [
              "<div>\n",
              "<style scoped>\n",
              "    .dataframe tbody tr th:only-of-type {\n",
              "        vertical-align: middle;\n",
              "    }\n",
              "\n",
              "    .dataframe tbody tr th {\n",
              "        vertical-align: top;\n",
              "    }\n",
              "\n",
              "    .dataframe thead th {\n",
              "        text-align: right;\n",
              "    }\n",
              "</style>\n",
              "<table border=\"1\" class=\"dataframe\">\n",
              "  <thead>\n",
              "    <tr style=\"text-align: right;\">\n",
              "      <th></th>\n",
              "      <th>feature</th>\n",
              "      <th>in_good</th>\n",
              "      <th>in_bad</th>\n",
              "    </tr>\n",
              "  </thead>\n",
              "  <tbody>\n",
              "    <tr>\n",
              "      <th>96650</th>\n",
              "      <td>мцк</td>\n",
              "      <td>0</td>\n",
              "      <td>11982</td>\n",
              "    </tr>\n",
              "    <tr>\n",
              "      <th>87994</th>\n",
              "      <td>дом.</td>\n",
              "      <td>0</td>\n",
              "      <td>10407</td>\n",
              "    </tr>\n",
              "    <tr>\n",
              "      <th>103372</th>\n",
              "      <td>р-н.</td>\n",
              "      <td>0</td>\n",
              "      <td>7478</td>\n",
              "    </tr>\n",
              "    <tr>\n",
              "      <th>78700</th>\n",
              "      <td>i,</td>\n",
              "      <td>0</td>\n",
              "      <td>6188</td>\n",
              "    </tr>\n",
              "    <tr>\n",
              "      <th>99678</th>\n",
              "      <td>п/р</td>\n",
              "      <td>0</td>\n",
              "      <td>5988</td>\n",
              "    </tr>\n",
              "    <tr>\n",
              "      <th>50949</th>\n",
              "      <td>(посмотреть</td>\n",
              "      <td>0</td>\n",
              "      <td>3697</td>\n",
              "    </tr>\n",
              "    <tr>\n",
              "      <th>90895</th>\n",
              "      <td>карте)</td>\n",
              "      <td>0</td>\n",
              "      <td>3697</td>\n",
              "    </tr>\n",
              "    <tr>\n",
              "      <th>102797</th>\n",
              "      <td>проезд.</td>\n",
              "      <td>0</td>\n",
              "      <td>2779</td>\n",
              "    </tr>\n",
              "    <tr>\n",
              "      <th>78860</th>\n",
              "      <td>ii,</td>\n",
              "      <td>0</td>\n",
              "      <td>2725</td>\n",
              "    </tr>\n",
              "    <tr>\n",
              "      <th>103424</th>\n",
              "      <td>р-он:</td>\n",
              "      <td>0</td>\n",
              "      <td>2693</td>\n",
              "    </tr>\n",
              "    <tr>\n",
              "      <th>84898</th>\n",
              "      <td>вокзал,</td>\n",
              "      <td>0</td>\n",
              "      <td>2476</td>\n",
              "    </tr>\n",
              "    <tr>\n",
              "      <th>83885</th>\n",
              "      <td>вднх,</td>\n",
              "      <td>0</td>\n",
              "      <td>1983</td>\n",
              "    </tr>\n",
              "    <tr>\n",
              "      <th>78948</th>\n",
              "      <td>iii,</td>\n",
              "      <td>0</td>\n",
              "      <td>1873</td>\n",
              "    </tr>\n",
              "    <tr>\n",
              "      <th>96904</th>\n",
              "      <td>нао</td>\n",
              "      <td>0</td>\n",
              "      <td>1831</td>\n",
              "    </tr>\n",
              "    <tr>\n",
              "      <th>50836</th>\n",
              "      <td>(новомосковский),</td>\n",
              "      <td>0</td>\n",
              "      <td>1823</td>\n",
              "    </tr>\n",
              "    <tr>\n",
              "      <th>104886</th>\n",
              "      <td>с/п</td>\n",
              "      <td>0</td>\n",
              "      <td>1777</td>\n",
              "    </tr>\n",
              "    <tr>\n",
              "      <th>79067</th>\n",
              "      <td>iv,</td>\n",
              "      <td>0</td>\n",
              "      <td>1686</td>\n",
              "    </tr>\n",
              "    <tr>\n",
              "      <th>110563</th>\n",
              "      <td>щелковская,</td>\n",
              "      <td>0</td>\n",
              "      <td>1593</td>\n",
              "    </tr>\n",
              "    <tr>\n",
              "      <th>83518</th>\n",
              "      <td>в/ч</td>\n",
              "      <td>0</td>\n",
              "      <td>1512</td>\n",
              "    </tr>\n",
              "    <tr>\n",
              "      <th>79552</th>\n",
              "      <td>v,</td>\n",
              "      <td>0</td>\n",
              "      <td>1384</td>\n",
              "    </tr>\n",
              "    <tr>\n",
              "      <th>79613</th>\n",
              "      <td>vi,</td>\n",
              "      <td>0</td>\n",
              "      <td>1210</td>\n",
              "    </tr>\n",
              "    <tr>\n",
              "      <th>82428</th>\n",
              "      <td>бабушкинская,</td>\n",
              "      <td>0</td>\n",
              "      <td>1160</td>\n",
              "    </tr>\n",
              "    <tr>\n",
              "      <th>91396</th>\n",
              "      <td>китай-город,</td>\n",
              "      <td>0</td>\n",
              "      <td>1046</td>\n",
              "    </tr>\n",
              "    <tr>\n",
              "      <th>51733</th>\n",
              "      <td>/</td>\n",
              "      <td>0</td>\n",
              "      <td>1013</td>\n",
              "    </tr>\n",
              "    <tr>\n",
              "      <th>84814</th>\n",
              "      <td>водный</td>\n",
              "      <td>0</td>\n",
              "      <td>1009</td>\n",
              "    </tr>\n",
              "    <tr>\n",
              "      <th>93602</th>\n",
              "      <td>культуры,</td>\n",
              "      <td>0</td>\n",
              "      <td>1008</td>\n",
              "    </tr>\n",
              "    <tr>\n",
              "      <th>111463</th>\n",
              "      <td>№</td>\n",
              "      <td>0</td>\n",
              "      <td>992</td>\n",
              "    </tr>\n",
              "    <tr>\n",
              "      <th>79836</th>\n",
              "      <td>xi,</td>\n",
              "      <td>0</td>\n",
              "      <td>987</td>\n",
              "    </tr>\n",
              "    <tr>\n",
              "      <th>88309</th>\n",
              "      <td>дубровка,</td>\n",
              "      <td>0</td>\n",
              "      <td>979</td>\n",
              "    </tr>\n",
              "    <tr>\n",
              "      <th>110318</th>\n",
              "      <td>шелепиха,</td>\n",
              "      <td>0</td>\n",
              "      <td>967</td>\n",
              "    </tr>\n",
              "  </tbody>\n",
              "</table>\n",
              "</div>"
            ],
            "text/plain": [
              "                  feature  in_good  in_bad\n",
              "96650                 мцк        0   11982\n",
              "87994                дом.        0   10407\n",
              "103372               р-н.        0    7478\n",
              "78700                  i,        0    6188\n",
              "99678                 п/р        0    5988\n",
              "50949         (посмотреть        0    3697\n",
              "90895              карте)        0    3697\n",
              "102797            проезд.        0    2779\n",
              "78860                 ii,        0    2725\n",
              "103424              р-он:        0    2693\n",
              "84898             вокзал,        0    2476\n",
              "83885               вднх,        0    1983\n",
              "78948                iii,        0    1873\n",
              "96904                 нао        0    1831\n",
              "50836   (новомосковский),        0    1823\n",
              "104886                с/п        0    1777\n",
              "79067                 iv,        0    1686\n",
              "110563        щелковская,        0    1593\n",
              "83518                 в/ч        0    1512\n",
              "79552                  v,        0    1384\n",
              "79613                 vi,        0    1210\n",
              "82428       бабушкинская,        0    1160\n",
              "91396        китай-город,        0    1046\n",
              "51733                   /        0    1013\n",
              "84814              водный        0    1009\n",
              "93602           культуры,        0    1008\n",
              "111463                  №        0     992\n",
              "79836                 xi,        0     987\n",
              "88309           дубровка,        0     979\n",
              "110318          шелепиха,        0     967"
            ]
          },
          "metadata": {
            "tags": []
          },
          "execution_count": 25
        }
      ]
    },
    {
      "cell_type": "code",
      "metadata": {
        "id": "H-APDHmFvlJ6",
        "colab_type": "code",
        "colab": {
          "base_uri": "https://localhost:8080/",
          "height": 105
        },
        "outputId": "a9a4b0cd-a5ab-41db-9411-4c5c86e0ff69"
      },
      "source": [
        "print(bads[bads['address'].apply(lambda x:'с/п' in x.lower())]['address'][:5].values)"
      ],
      "execution_count": 59,
      "outputs": [
        {
          "output_type": "stream",
          "text": [
            "['Россия, Московская область, Ленинский р-он, с/пос совхоз им. Ленина, ул. ЖСК \"Новинка\", дом 16, кв. 171'\n",
            " '000000, Московская область, д.Нажицы (Демиховское с/п), Орехово-Зуевский р-он, 000000, Московская область, д Нажицы (Демиховское с/п), р-он: Орехово-Зуевский, дом 81, дом 81'\n",
            " '000000, Московская область, д.Федорово (Демиховское с/п), Орехово-Зуевский р-он, 000000, Московская область, д Федорово (Демиховское с/п), р-он: Орехово-Зуевский, дом 179, дом 179'\n",
            " '101000, Московская область, п.Авсюнино (Дороховское с/п), Орехово-Зуевский р-он, 101000, Московская область, п Авсюнино (Дороховское с/п), р-он: Орехово-Зуевский, дом 117, дом 117'\n",
            " '101001, Московская область, с/п Рязановское, п Знамя Октября, мкр Родники, д. 4,']\n"
          ],
          "name": "stdout"
        }
      ]
    },
    {
      "cell_type": "markdown",
      "metadata": {
        "id": "pQTk1JVoWSVe",
        "colab_type": "text"
      },
      "source": [
        "# Сплит посимвольно"
      ]
    },
    {
      "cell_type": "code",
      "metadata": {
        "id": "rMUQy1PdWUqB",
        "colab_type": "code",
        "colab": {}
      },
      "source": [
        "def split_address_sym(adr):\n",
        "  return [s for s in adr.lower()]"
      ],
      "execution_count": 0,
      "outputs": []
    },
    {
      "cell_type": "code",
      "metadata": {
        "id": "xNPrT9SIWdE5",
        "colab_type": "code",
        "colab": {}
      },
      "source": [
        "sym_stats = geature_generator(bads, goods, split_address_sym)"
      ],
      "execution_count": 0,
      "outputs": []
    },
    {
      "cell_type": "code",
      "metadata": {
        "id": "HT2CHxeEWf1b",
        "colab_type": "code",
        "colab": {}
      },
      "source": [
        "#встречаются только в плохих\n",
        "seen_only_in_bad_sym = sym_stats[sym_stats['in_good']==0]"
      ],
      "execution_count": 0,
      "outputs": []
    },
    {
      "cell_type": "code",
      "metadata": {
        "id": "Jlyk0UckWkGX",
        "colab_type": "code",
        "outputId": "54058686-38cb-4cc8-b8c9-8fcbbd6b618f",
        "colab": {
          "base_uri": "https://localhost:8080/",
          "height": 707
        }
      },
      "source": [
        "seen_only_in_bad_sym.sort_values(by=['in_bad'], ascending=False)[:30]"
      ],
      "execution_count": 29,
      "outputs": [
        {
          "output_type": "execute_result",
          "data": {
            "text/html": [
              "<div>\n",
              "<style scoped>\n",
              "    .dataframe tbody tr th:only-of-type {\n",
              "        vertical-align: middle;\n",
              "    }\n",
              "\n",
              "    .dataframe tbody tr th {\n",
              "        vertical-align: top;\n",
              "    }\n",
              "\n",
              "    .dataframe thead th {\n",
              "        text-align: right;\n",
              "    }\n",
              "</style>\n",
              "<table border=\"1\" class=\"dataframe\">\n",
              "  <thead>\n",
              "    <tr style=\"text-align: right;\">\n",
              "      <th></th>\n",
              "      <th>feature</th>\n",
              "      <th>in_good</th>\n",
              "      <th>in_bad</th>\n",
              "    </tr>\n",
              "  </thead>\n",
              "  <tbody>\n",
              "    <tr>\n",
              "      <th>97</th>\n",
              "      <td>/</td>\n",
              "      <td>0</td>\n",
              "      <td>57460</td>\n",
              "    </tr>\n",
              "    <tr>\n",
              "      <th>98</th>\n",
              "      <td>:</td>\n",
              "      <td>0</td>\n",
              "      <td>3563</td>\n",
              "    </tr>\n",
              "    <tr>\n",
              "      <th>115</th>\n",
              "      <td>№</td>\n",
              "      <td>0</td>\n",
              "      <td>2516</td>\n",
              "    </tr>\n",
              "    <tr>\n",
              "      <th>99</th>\n",
              "      <td>;</td>\n",
              "      <td>0</td>\n",
              "      <td>130</td>\n",
              "    </tr>\n",
              "    <tr>\n",
              "      <th>94</th>\n",
              "      <td>\\n</td>\n",
              "      <td>0</td>\n",
              "      <td>130</td>\n",
              "    </tr>\n",
              "    <tr>\n",
              "      <th>95</th>\n",
              "      <td>!</td>\n",
              "      <td>0</td>\n",
              "      <td>74</td>\n",
              "    </tr>\n",
              "    <tr>\n",
              "      <th>104</th>\n",
              "      <td>j</td>\n",
              "      <td>0</td>\n",
              "      <td>33</td>\n",
              "    </tr>\n",
              "    <tr>\n",
              "      <th>96</th>\n",
              "      <td>%</td>\n",
              "      <td>0</td>\n",
              "      <td>17</td>\n",
              "    </tr>\n",
              "    <tr>\n",
              "      <th>105</th>\n",
              "      <td>q</td>\n",
              "      <td>0</td>\n",
              "      <td>13</td>\n",
              "    </tr>\n",
              "    <tr>\n",
              "      <th>111</th>\n",
              "      <td>’</td>\n",
              "      <td>0</td>\n",
              "      <td>12</td>\n",
              "    </tr>\n",
              "    <tr>\n",
              "      <th>103</th>\n",
              "      <td>`</td>\n",
              "      <td>0</td>\n",
              "      <td>9</td>\n",
              "    </tr>\n",
              "    <tr>\n",
              "      <th>109</th>\n",
              "      <td>·</td>\n",
              "      <td>0</td>\n",
              "      <td>6</td>\n",
              "    </tr>\n",
              "    <tr>\n",
              "      <th>112</th>\n",
              "      <td>“</td>\n",
              "      <td>0</td>\n",
              "      <td>6</td>\n",
              "    </tr>\n",
              "    <tr>\n",
              "      <th>113</th>\n",
              "      <td>”</td>\n",
              "      <td>0</td>\n",
              "      <td>4</td>\n",
              "    </tr>\n",
              "    <tr>\n",
              "      <th>100</th>\n",
              "      <td>&lt;</td>\n",
              "      <td>0</td>\n",
              "      <td>3</td>\n",
              "    </tr>\n",
              "    <tr>\n",
              "      <th>108</th>\n",
              "      <td>­</td>\n",
              "      <td>0</td>\n",
              "      <td>3</td>\n",
              "    </tr>\n",
              "    <tr>\n",
              "      <th>102</th>\n",
              "      <td>[</td>\n",
              "      <td>0</td>\n",
              "      <td>1</td>\n",
              "    </tr>\n",
              "    <tr>\n",
              "      <th>101</th>\n",
              "      <td>&gt;</td>\n",
              "      <td>0</td>\n",
              "      <td>1</td>\n",
              "    </tr>\n",
              "    <tr>\n",
              "      <th>106</th>\n",
              "      <td>{</td>\n",
              "      <td>0</td>\n",
              "      <td>1</td>\n",
              "    </tr>\n",
              "    <tr>\n",
              "      <th>110</th>\n",
              "      <td>‘</td>\n",
              "      <td>0</td>\n",
              "      <td>1</td>\n",
              "    </tr>\n",
              "    <tr>\n",
              "      <th>114</th>\n",
              "      <td>•</td>\n",
              "      <td>0</td>\n",
              "      <td>1</td>\n",
              "    </tr>\n",
              "    <tr>\n",
              "      <th>107</th>\n",
              "      <td>¦</td>\n",
              "      <td>0</td>\n",
              "      <td>1</td>\n",
              "    </tr>\n",
              "  </tbody>\n",
              "</table>\n",
              "</div>"
            ],
            "text/plain": [
              "    feature  in_good  in_bad\n",
              "97        /        0   57460\n",
              "98        :        0    3563\n",
              "115       №        0    2516\n",
              "99        ;        0     130\n",
              "94       \\n        0     130\n",
              "95        !        0      74\n",
              "104       j        0      33\n",
              "96        %        0      17\n",
              "105       q        0      13\n",
              "111       ’        0      12\n",
              "103       `        0       9\n",
              "109       ·        0       6\n",
              "112       “        0       6\n",
              "113       ”        0       4\n",
              "100       <        0       3\n",
              "108       ­        0       3\n",
              "102       [        0       1\n",
              "101       >        0       1\n",
              "106       {        0       1\n",
              "110       ‘        0       1\n",
              "114       •        0       1\n",
              "107       ¦        0       1"
            ]
          },
          "metadata": {
            "tags": []
          },
          "execution_count": 29
        }
      ]
    },
    {
      "cell_type": "markdown",
      "metadata": {
        "id": "IuNab_SRYLJx",
        "colab_type": "text"
      },
      "source": [
        "# сплит по запятой и пробелу"
      ]
    },
    {
      "cell_type": "code",
      "metadata": {
        "id": "sfT05oDfYa4u",
        "colab_type": "code",
        "colab": {}
      },
      "source": [
        "import re"
      ],
      "execution_count": 0,
      "outputs": []
    },
    {
      "cell_type": "code",
      "metadata": {
        "id": "9xib2tLvYVri",
        "colab_type": "code",
        "colab": {}
      },
      "source": [
        "def split_address_ws_coma(adr):\n",
        "  return re.split(', | ',adr)"
      ],
      "execution_count": 0,
      "outputs": []
    },
    {
      "cell_type": "code",
      "metadata": {
        "id": "yhZiVgWyYgNd",
        "colab_type": "code",
        "colab": {}
      },
      "source": [
        "ws_coma_stats = geature_generator(bads, goods, split_address_ws_coma)"
      ],
      "execution_count": 0,
      "outputs": []
    },
    {
      "cell_type": "code",
      "metadata": {
        "id": "MtVDuHbqYm5Z",
        "colab_type": "code",
        "colab": {}
      },
      "source": [
        "#встречаются только в плохих\n",
        "seen_only_in_bad_ws_coma = ws_coma_stats[ws_coma_stats['in_good']==0]"
      ],
      "execution_count": 0,
      "outputs": []
    },
    {
      "cell_type": "code",
      "metadata": {
        "id": "4PsK63KDYOyq",
        "colab_type": "code",
        "outputId": "102ee09e-41fb-446d-dc9f-0e5dbc9bf368",
        "colab": {
          "base_uri": "https://localhost:8080/",
          "height": 647
        }
      },
      "source": [
        "seen_only_in_bad_ws_coma.sort_values(by=['in_bad'], ascending=False)[:20]"
      ],
      "execution_count": 34,
      "outputs": [
        {
          "output_type": "execute_result",
          "data": {
            "text/html": [
              "<div>\n",
              "<style scoped>\n",
              "    .dataframe tbody tr th:only-of-type {\n",
              "        vertical-align: middle;\n",
              "    }\n",
              "\n",
              "    .dataframe tbody tr th {\n",
              "        vertical-align: top;\n",
              "    }\n",
              "\n",
              "    .dataframe thead th {\n",
              "        text-align: right;\n",
              "    }\n",
              "</style>\n",
              "<table border=\"1\" class=\"dataframe\">\n",
              "  <thead>\n",
              "    <tr style=\"text-align: right;\">\n",
              "      <th></th>\n",
              "      <th>feature</th>\n",
              "      <th>in_good</th>\n",
              "      <th>in_bad</th>\n",
              "    </tr>\n",
              "  </thead>\n",
              "  <tbody>\n",
              "    <tr>\n",
              "      <th>103889</th>\n",
              "      <td>м.</td>\n",
              "      <td>0</td>\n",
              "      <td>130680</td>\n",
              "    </tr>\n",
              "    <tr>\n",
              "      <th>106870</th>\n",
              "      <td>пом.</td>\n",
              "      <td>0</td>\n",
              "      <td>40482</td>\n",
              "    </tr>\n",
              "    <tr>\n",
              "      <th>102608</th>\n",
              "      <td>ком.</td>\n",
              "      <td>0</td>\n",
              "      <td>33301</td>\n",
              "    </tr>\n",
              "    <tr>\n",
              "      <th>103304</th>\n",
              "      <td>корп.</td>\n",
              "      <td>0</td>\n",
              "      <td>26770</td>\n",
              "    </tr>\n",
              "    <tr>\n",
              "      <th>108161</th>\n",
              "      <td>р-н</td>\n",
              "      <td>0</td>\n",
              "      <td>14902</td>\n",
              "    </tr>\n",
              "    <tr>\n",
              "      <th>88542</th>\n",
              "      <td>МЦК</td>\n",
              "      <td>0</td>\n",
              "      <td>11982</td>\n",
              "    </tr>\n",
              "    <tr>\n",
              "      <th>100878</th>\n",
              "      <td>дом.</td>\n",
              "      <td>0</td>\n",
              "      <td>10407</td>\n",
              "    </tr>\n",
              "    <tr>\n",
              "      <th>108298</th>\n",
              "      <td>р-н.</td>\n",
              "      <td>0</td>\n",
              "      <td>7505</td>\n",
              "    </tr>\n",
              "    <tr>\n",
              "      <th>91274</th>\n",
              "      <td>П/Р</td>\n",
              "      <td>0</td>\n",
              "      <td>5989</td>\n",
              "    </tr>\n",
              "    <tr>\n",
              "      <th>105367</th>\n",
              "      <td>п.</td>\n",
              "      <td>0</td>\n",
              "      <td>3720</td>\n",
              "    </tr>\n",
              "    <tr>\n",
              "      <th>102215</th>\n",
              "      <td>карте)</td>\n",
              "      <td>0</td>\n",
              "      <td>3697</td>\n",
              "    </tr>\n",
              "    <tr>\n",
              "      <th>51598</th>\n",
              "      <td>(посмотреть</td>\n",
              "      <td>0</td>\n",
              "      <td>3697</td>\n",
              "    </tr>\n",
              "    <tr>\n",
              "      <th>107969</th>\n",
              "      <td>проезд.</td>\n",
              "      <td>0</td>\n",
              "      <td>2780</td>\n",
              "    </tr>\n",
              "    <tr>\n",
              "      <th>108345</th>\n",
              "      <td>р-он:</td>\n",
              "      <td>0</td>\n",
              "      <td>2693</td>\n",
              "    </tr>\n",
              "    <tr>\n",
              "      <th>99298</th>\n",
              "      <td>вокзал</td>\n",
              "      <td>0</td>\n",
              "      <td>2693</td>\n",
              "    </tr>\n",
              "    <tr>\n",
              "      <th>78225</th>\n",
              "      <td>IV</td>\n",
              "      <td>0</td>\n",
              "      <td>2526</td>\n",
              "    </tr>\n",
              "    <tr>\n",
              "      <th>83365</th>\n",
              "      <td>ГСК</td>\n",
              "      <td>0</td>\n",
              "      <td>2402</td>\n",
              "    </tr>\n",
              "    <tr>\n",
              "      <th>107563</th>\n",
              "      <td>пос.</td>\n",
              "      <td>0</td>\n",
              "      <td>2348</td>\n",
              "    </tr>\n",
              "    <tr>\n",
              "      <th>82301</th>\n",
              "      <td>ВДНХ</td>\n",
              "      <td>0</td>\n",
              "      <td>2143</td>\n",
              "    </tr>\n",
              "    <tr>\n",
              "      <th>78644</th>\n",
              "      <td>V</td>\n",
              "      <td>0</td>\n",
              "      <td>1964</td>\n",
              "    </tr>\n",
              "  </tbody>\n",
              "</table>\n",
              "</div>"
            ],
            "text/plain": [
              "            feature  in_good  in_bad\n",
              "103889           м.        0  130680\n",
              "106870         пом.        0   40482\n",
              "102608         ком.        0   33301\n",
              "103304        корп.        0   26770\n",
              "108161          р-н        0   14902\n",
              "88542           МЦК        0   11982\n",
              "100878         дом.        0   10407\n",
              "108298         р-н.        0    7505\n",
              "91274           П/Р        0    5989\n",
              "105367           п.        0    3720\n",
              "102215       карте)        0    3697\n",
              "51598   (посмотреть        0    3697\n",
              "107969      проезд.        0    2780\n",
              "108345        р-он:        0    2693\n",
              "99298        вокзал        0    2693\n",
              "78225            IV        0    2526\n",
              "83365           ГСК        0    2402\n",
              "107563         пос.        0    2348\n",
              "82301          ВДНХ        0    2143\n",
              "78644             V        0    1964"
            ]
          },
          "metadata": {
            "tags": []
          },
          "execution_count": 34
        }
      ]
    },
    {
      "cell_type": "code",
      "metadata": {
        "id": "3HQ33GFTEJFH",
        "colab_type": "code",
        "colab": {}
      },
      "source": [
        ""
      ],
      "execution_count": 0,
      "outputs": []
    },
    {
      "cell_type": "code",
      "metadata": {
        "id": "jDy05Qp6EJBX",
        "colab_type": "code",
        "colab": {
          "base_uri": "https://localhost:8080/",
          "height": 230
        },
        "outputId": "26f22c3a-84f2-4ff2-e2e0-5238e8e0f348"
      },
      "source": [
        "goods['address']"
      ],
      "execution_count": 71,
      "outputs": [
        {
          "output_type": "execute_result",
          "data": {
            "text/plain": [
              "0                        115054, Москва, Пятницкая, 71\\5, 3\n",
              "1          115054, г. Москва, пер. Монетчиковский 5-й, 2...\n",
              "2                           115516, Москва, Бехтерева, 2, 1\n",
              "3          117279, г. Москва, ул. Миклухо-Маклая, д.34, ...\n",
              "4                  127083, Москва, ул. Масловка В, 20, 1, 6\n",
              "                                ...                        \n",
              "863418    ярославский проезд улица, дом 3, Королев, Моск...\n",
              "863419                        ярославское шоссе 103, Москва\n",
              "863420                        ярославское шоссе 103, Москва\n",
              "863421    ярославское шоссе 146 корп 2, Ярославский, Москва\n",
              "863422    ярославское шоссе 146 корп 2, Ярославский, Москва\n",
              "Name: address, Length: 863361, dtype: object"
            ]
          },
          "metadata": {
            "tags": []
          },
          "execution_count": 71
        }
      ]
    },
    {
      "cell_type": "code",
      "metadata": {
        "id": "mZ50WzT3FIZK",
        "colab_type": "code",
        "colab": {
          "base_uri": "https://localhost:8080/",
          "height": 34
        },
        "outputId": "d42b4e78-fac6-4154-8c7b-213c96d45169"
      },
      "source": [
        "re.findall(r'^(\\s*)?(\\+)?([- _():=+]?\\d[- _():=+]?){10,14}(\\s*)?$', '89035675484')"
      ],
      "execution_count": 83,
      "outputs": [
        {
          "output_type": "execute_result",
          "data": {
            "text/plain": [
              "[('', '', '4', '')]"
            ]
          },
          "metadata": {
            "tags": []
          },
          "execution_count": 83
        }
      ]
    },
    {
      "cell_type": "code",
      "metadata": {
        "id": "n0KiqwjlFZTH",
        "colab_type": "code",
        "colab": {}
      },
      "source": [
        "phone_re = re.compile(r'(?:\\+|\\d)[\\d\\-\\(\\) ]{9,}\\d') "
      ],
      "execution_count": 0,
      "outputs": []
    },
    {
      "cell_type": "code",
      "metadata": {
        "id": "XIUaHgzDHuei",
        "colab_type": "code",
        "colab": {
          "base_uri": "https://localhost:8080/",
          "height": 34
        },
        "outputId": "1d1a9510-4099-4767-bc29-cae61a7bf8d0"
      },
      "source": [
        "s = ' 7-90356  754 84 '\n",
        "phone_re.findall(s)"
      ],
      "execution_count": 153,
      "outputs": [
        {
          "output_type": "execute_result",
          "data": {
            "text/plain": [
              "['7-90356  754 84']"
            ]
          },
          "metadata": {
            "tags": []
          },
          "execution_count": 153
        }
      ]
    },
    {
      "cell_type": "code",
      "metadata": {
        "id": "IyBWOXlEG_Wk",
        "colab_type": "code",
        "colab": {
          "base_uri": "https://localhost:8080/",
          "height": 34
        },
        "outputId": "98aa2df9-cdc3-4764-a17a-f93cd6f90235"
      },
      "source": [
        "s = 'asdasd'\n",
        "print(re.findall(r'(\\+7|8).*?(\\d{3}).*?(\\d{3}).*?(\\d{2}).*?(\\d{2})', s))"
      ],
      "execution_count": 103,
      "outputs": [
        {
          "output_type": "stream",
          "text": [
            "[]\n"
          ],
          "name": "stdout"
        }
      ]
    },
    {
      "cell_type": "code",
      "metadata": {
        "id": "PyyVVuPKHosG",
        "colab_type": "code",
        "colab": {}
      },
      "source": [
        ""
      ],
      "execution_count": 0,
      "outputs": []
    },
    {
      "cell_type": "code",
      "metadata": {
        "id": "_eEWvuFQIOHH",
        "colab_type": "code",
        "colab": {}
      },
      "source": [
        "pers = bads[bads['address'].apply(lambda x: len(phone_re.findall(x))>0)]"
      ],
      "execution_count": 0,
      "outputs": []
    },
    {
      "cell_type": "code",
      "metadata": {
        "id": "768fhSgJIqT0",
        "colab_type": "code",
        "colab": {
          "base_uri": "https://localhost:8080/",
          "height": 587
        },
        "outputId": "308cb63f-8716-4313-d9ec-698798325c23"
      },
      "source": [
        "pers['address'].values[160:190]"
      ],
      "execution_count": 125,
      "outputs": [
        {
          "output_type": "execute_result",
          "data": {
            "text/plain": [
              "array(['121433 Москва ул.Малая Филевская д.8 к.1 кв.40 м/т 9104510025',\n",
              "       '121467 г Москва ул Молдавская 2-2-41 8/926/3974585',\n",
              "       '121471 г Москва ул Багрицкого 24-1-51 8/916/8245260',\n",
              "       '121601 г Москва Филевский б-р 21-7 8/926/4329096',\n",
              "       '123007 г Москва ул 5 я Магистральная 14-33 8/916/4926322',\n",
              "       '123098 г Москва ул Новощукинская 11-29 89168519068',\n",
              "       '123098, г.Москва, ул. Гамалеи, дом 3, кв. 185, 123098, г.Москва, ул. Гамалеи, дом 3, кв. 185, 123098, г.Москва, ул. Гамалеи, дом 3, кв. 185, 123098, г.Москва, ул. Гамалеи, дом 3, кв. 185',\n",
              "       '123100 г Москва ул Мантулинская 16-22 8/916/6223016',\n",
              "       '123154 Москва ул Берзарина д23 кв169 моб 89169023638',\n",
              "       '123298, Город Москва столица Российской Федерации город федерального значения, г.Москва, РОССИЯ, 123298, МОСКВА, улица Березина, дом 7, корпус 2, кв. 261, дом 7, корп. 2, кв. 261',\n",
              "       '123308 Москва ул Мневники 7-1-1 моб 4957209515',\n",
              "       '123308 Москва ул Мневники 9-84 9432363 8-916-151-89-30 гражд РФ',\n",
              "       '123308 Москва ул.Демьяна Бедного д.6 корп.2 кв.64 моб/тел 89261257383',\n",
              "       '123317 г.Москва ул.Антонова-Овсеенко дом 2 кв.27 м.т. 89032424248',\n",
              "       '123423 г Москва ул Народного ополчения 28-1-172 т р 755-66-19',\n",
              "       '123592 г Москва р-н Строгино ул Катукова 4-1-216 тел моб 8-916-6218761',\n",
              "       '124482, Город Москва столица Российской Федерации город федерального значения, г.Зеленоград, 124482, Город Москва столица Российской Федерации город федерального значения, г Зеленоград, дом 4, кв. 1313, дом 4, кв. 1313',\n",
              "       '124482, Город Москва столица Российской Федерации город федерального значения, г.МОСКВА ЗЕЛЕНОГРАД, 124482, Город Москва столица Российской Федерации город федерального значения, г МОСКВА ЗЕЛЕНОГРАД, дом 313, кв. 72, дом 313, кв. 72',\n",
              "       '124482, Город Москва столица Российской Федерации город федерального значения, г.Москва, 124482, МОСКВА, г Зеленоград, дом 4, кв. 1304, дом 4, кв. 1304',\n",
              "       '124482, СОЛНЕЧНЫЙ, д.Москва, РОССИЯ, 124482, МОСКВА, г.Зеленоград, проезд Савелкинский, дом 4, оф. 1313, дом 4, кв. 1313',\n",
              "       '124482, г.ЗЕЛЕНОГРАД, Город Москва столица Российской Федерации город федерального значения, г ЗЕЛЕНОГРАД, дом а/я191, корп. 317А, дом а/я191, корп. 317А',\n",
              "       '124482, г.Зеленоград, Город Москва столица Российской Федерации город федерального значения, г Зеленоград, дом 303, кв. 224, дом 303, кв. 224',\n",
              "       '124489, Московская область, г.Зеленоград, Московская область, г Зеленоград, дом 360, кв. 391, дом 360, кв. 391',\n",
              "       '124489, Псковская область, д.Москва, РОССИЯ, 124489, Москва, г.Зеленоград, проезд 4807, дом 1, стр. 9., дом 1, стр. 9',\n",
              "       '124498, Московская область, г.Зеленоград, 124498, Московская область, г Зеленоград, дом 405, кв. 224, дом 405, кв. 224',\n",
              "       '124498, Московская область, г.Зеленоград, Московская область, г Зеленоград, дом 2016, кв. 230, дом 2016, кв. 230',\n",
              "       '124498, г.ЗЕЛЕНОГРАД, Город Москва столица Российской Федерации город федерального значения, г ЗЕЛЕНОГРАД, дом 1121, кв. 490, дом 1121, кв. 490',\n",
              "       '124618, г.Зеленоград, Город Москва столица Российской Федерации город федерального значения, г Зеленоград, дом 1643, кв. 142, дом 1643, кв. 142',\n",
              "       '124681, Город Москва столица Российской Федерации город федерального значения, г.Зеленоград, 124681, Город Москва столица Российской Федерации город федерального значения, г ЗЕЛЕНОГРАД, дом 1808, кв. 24, дом 1808, кв. 24',\n",
              "       '124683, Город Москва столица Российской Федерации город федерального значения, г.Зеленоград, 124683, Город Москва столица Российской Федерации город федерального значения, г ЗЕЛЕНОГРАД, дом 1539, кв. 448, дом 1539, кв. 448'],\n",
              "      dtype=object)"
            ]
          },
          "metadata": {
            "tags": []
          },
          "execution_count": 125
        }
      ]
    },
    {
      "cell_type": "code",
      "metadata": {
        "id": "eBQ4z7fWGEu7",
        "colab_type": "code",
        "colab": {}
      },
      "source": [
        ""
      ],
      "execution_count": 0,
      "outputs": []
    }
  ]
}