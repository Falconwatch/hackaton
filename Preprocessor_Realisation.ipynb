{
  "nbformat": 4,
  "nbformat_minor": 0,
  "metadata": {
    "colab": {
      "name": "Preprocessor Realisation",
      "provenance": [],
      "authorship_tag": "ABX9TyOds4sjX+Ia4JUC+Uj1HDn4",
      "include_colab_link": true
    },
    "kernelspec": {
      "name": "python3",
      "display_name": "Python 3"
    }
  },
  "cells": [
    {
      "cell_type": "markdown",
      "metadata": {
        "id": "view-in-github",
        "colab_type": "text"
      },
      "source": [
        "<a href=\"https://colab.research.google.com/github/Falconwatch/hackaton/blob/master/Preprocessor_Realisation.ipynb\" target=\"_parent\"><img src=\"https://colab.research.google.com/assets/colab-badge.svg\" alt=\"Open In Colab\"/></a>"
      ]
    },
    {
      "cell_type": "code",
      "metadata": {
        "id": "ueyCxN9RlYX3",
        "colab_type": "code",
        "colab": {}
      },
      "source": [
        "import numpy as np\n",
        "class Preporcessor:\n",
        "  def __init__(self, filters):\n",
        "    self._filters=filters\n",
        "\n",
        "  \n",
        "  def preprocess(self, initinal_strings):\n",
        "    result= list()\n",
        "    #входной массив обрабатываем поэлементно\n",
        "    for initinal_string in initinal_strings:\n",
        "      #если вдруг есть\n",
        "      result.append(self._process_string(initinal_string))\n",
        "    return np.concatenate(result)\n",
        "\n",
        "  def _process_string(self, adress_string):\n",
        "    result = list()\n",
        "    #сплтим по переводу строки, если есть\n",
        "    substrings = adress_string.split('\\n')\n",
        "    for substring in substrings:\n",
        "      for one_filter in self._filters:\n",
        "        substring = one_filter(substring)\n",
        "      #зздесь вызываем поочердёно фильтры, лежащие в self._filters\n",
        "      result.append(substring)\n",
        "   \n",
        "    return result\n",
        "\n",
        "\n",
        "def filter_1(input_string):\n",
        "  # тут происходит фильтрация: сплит, выкидывание, склейка. Это самый простой вариант фильтра - пустой :)\n",
        "  return input_string"
      ],
      "execution_count": 0,
      "outputs": []
    },
    {
      "cell_type": "code",
      "metadata": {
        "id": "EC8K_ddpmqLu",
        "colab_type": "code",
        "colab": {
          "base_uri": "https://localhost:8080/",
          "height": 34
        },
        "outputId": "2927222e-b932-4c60-f05c-6071af28a261"
      },
      "source": [
        "data =['string1 example', 'string2\\nstring3']\n",
        "\n",
        "p = Preporcessor([filter_1])\n",
        "p.preprocess(data)"
      ],
      "execution_count": 24,
      "outputs": [
        {
          "output_type": "execute_result",
          "data": {
            "text/plain": [
              "array(['string1 example', 'string2', 'string3'], dtype='<U15')"
            ]
          },
          "metadata": {
            "tags": []
          },
          "execution_count": 24
        }
      ]
    },
    {
      "cell_type": "code",
      "metadata": {
        "id": "7lq1Ubfsnd2h",
        "colab_type": "code",
        "colab": {}
      },
      "source": [
        ""
      ],
      "execution_count": 0,
      "outputs": []
    }
  ]
}