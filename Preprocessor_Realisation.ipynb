{
  "nbformat": 4,
  "nbformat_minor": 0,
  "metadata": {
    "colab": {
      "name": "Preprocessor Realisation",
      "provenance": [],
      "collapsed_sections": [],
      "toc_visible": true,
      "authorship_tag": "ABX9TyOiWlXNvX8l6N53apsNh4pg",
      "include_colab_link": true
    },
    "kernelspec": {
      "name": "python3",
      "display_name": "Python 3"
    }
  },
  "cells": [
    {
      "cell_type": "markdown",
      "metadata": {
        "id": "view-in-github",
        "colab_type": "text"
      },
      "source": [
        "<a href=\"https://colab.research.google.com/github/Falconwatch/hackaton/blob/master/Preprocessor_Realisation.ipynb\" target=\"_parent\"><img src=\"https://colab.research.google.com/assets/colab-badge.svg\" alt=\"Open In Colab\"/></a>"
      ]
    },
    {
      "cell_type": "code",
      "metadata": {
        "id": "ueyCxN9RlYX3",
        "colab_type": "code",
        "colab": {}
      },
      "source": [
        ""
      ],
      "execution_count": 0,
      "outputs": []
    },
    {
      "cell_type": "markdown",
      "metadata": {
        "id": "UyhI6dW1oMZ1",
        "colab_type": "text"
      },
      "source": [
        "# Реализация ядра"
      ]
    },
    {
      "cell_type": "code",
      "metadata": {
        "id": "j-QelPlloL-n",
        "colab_type": "code",
        "colab": {}
      },
      "source": [
        "import numpy as np\n",
        "class Preporcessor:\n",
        "  def __init__(self, filters):\n",
        "    self._filters=filters\n",
        "\n",
        "  \n",
        "  def preprocess(self, initinal_strings):\n",
        "    result= list()\n",
        "    #входной массив обрабатываем поэлементно\n",
        "    for initinal_string in initinal_strings:\n",
        "      #если вдруг есть\n",
        "      result.append(self._process_string(initinal_string))\n",
        "    return np.concatenate(result)\n",
        "\n",
        "  def _process_string(self, adress_string):\n",
        "    result = list()\n",
        "    #сплтим по переводу строки, если есть\n",
        "    addresses = [s.lower() for s in adress_string.split('\\n')]\n",
        "    for address in addresses:\n",
        "      #разобьём адре сна кусочки по запятым\n",
        "      address_parts = [ap.strip() for ap in address.split(',')]\n",
        "      for i in range(len(address_parts)):\n",
        "        for one_filter in self._filters:\n",
        "          address_parts[i] = one_filter(address_parts[i])\n",
        "\n",
        "      address_fixed = ','.join([ap for ap in address_parts if len(ap)>0])\n",
        "      #здесь вызываем поочердёно фильтры, лежащие в self._filters\n",
        "      result.append(address_fixed)\n",
        "   \n",
        "    return result\n",
        "\n",
        "\n",
        "\n",
        "\n",
        "\n",
        "\n",
        "\n",
        "#переводит римские числа в арабские\n",
        "def filter_roman(input_string):\n",
        "  def roman_to_int(s):\n",
        "    if len(s)==0:\n",
        "      return ''\n",
        "    rom_val = {'i': 1, 'v': 5, 'x': 10, 'l': 50, 'c': 100, 'd': 500, 'm': 1000}\n",
        "    int_val = 0\n",
        "    for i in range(len(s)):\n",
        "      if s[i] not in rom_val:\n",
        "        return s\n",
        "      if i > 0 and rom_val[s[i]] > rom_val[s[i - 1]]:\n",
        "        int_val += rom_val[s[i]] - 2 * rom_val[s[i - 1]]\n",
        "      else:\n",
        "        int_val += rom_val[s[i]]\n",
        "    return str(int_val)\n",
        "\n",
        "  splited_string = input_string.split(' ')\n",
        "\n",
        "  for i in range(len(splited_string)):\n",
        "    splited_string[i] = roman_to_int(splited_string[i] ) \n",
        "\n",
        "  result = ' '.join(splited_string)\n",
        "  return result\n",
        "\n",
        "# фильтруем названия станций метро и мцк\n",
        "def filter_stations(input_string):\n",
        "  splited_string = input_string.split(',')\n",
        "  for i in range(len(splited_string)):\n",
        "    w = splited_string[i]\n",
        "    if (w[:2]=='м.') or (w[:3]==' м.') or (w[-2:]==' м') or ('мцк' in w) or ('ст.' in w) :\n",
        "      splited_string[i]=''\n",
        "  return ''.join(splited_string)\n",
        "\n",
        "\n",
        "# убираем плохие символы из строки\n",
        "def filter_bad_signs(input_string):\n",
        "  input_string = input_string.replace('№','')\n",
        "  input_string = input_string.replace('/','\\\\')\n",
        "  input_string = input_string.replace('\"','')\n",
        "  return input_string\n",
        "\n",
        "# фиксим аббревиатуры\n",
        "def filter_abb(input_string):\n",
        "  input_string = input_string.replace('р-он','район')\n",
        "  input_string = input_string.replace('р-н','район')\n",
        "  input_string = input_string.replace('пом.','помещение')\n",
        "  input_string = input_string.replace('пом ','помещение')\n",
        "  input_string = input_string.replace('корп.','корпус')\n",
        "  input_string = input_string.replace('корп ','корпус')\n",
        "  input_string = input_string.replace('д. ','дом ')\n",
        "  input_string = input_string.replace('д ','дом ')\n",
        "  input_string = input_string.replace('стр. ','строение ')\n",
        "  input_string = input_string.replace('стр ','строение ')\n",
        "  return input_string\n",
        "    \n",
        "#фиксим плохие знаки    \n",
        "def filter_exclam(input_string):\n",
        "  input_string = input_string.replace('!-', '1-')\n",
        "  input_string = input_string.replace('!', '')\n",
        "  return input_string"
      ],
      "execution_count": 0,
      "outputs": []
    },
    {
      "cell_type": "code",
      "metadata": {
        "id": "EC8K_ddpmqLu",
        "colab_type": "code",
        "outputId": "151f582f-ada1-44bd-8c0f-9ef88a5d5836",
        "colab": {
          "base_uri": "https://localhost:8080/",
          "height": 70
        }
      },
      "source": [
        "data =['string1 example', 'string2\\nкорп. ivx', 'м. войковская, дом №2', '!-я владимирская', 'viii, asd', \n",
        "       'шоссе энтузиастов, д. 2, стр. 44, ст. москва-товарная-курская']\n",
        "\n",
        "p = Preporcessor([filter_exclam, filter_roman, filter_bad_signs, filter_abb, filter_stations])\n",
        "p.preprocess(data)"
      ],
      "execution_count": 33,
      "outputs": [
        {
          "output_type": "execute_result",
          "data": {
            "text/plain": [
              "array(['string1 example', 'string2', 'корпус 4', 'дом 2',\n",
              "       '1-я владимирская', '8,asd', 'шоссе энтузиастов,дом 2,строение 44'],\n",
              "      dtype='<U35')"
            ]
          },
          "metadata": {
            "tags": []
          },
          "execution_count": 33
        }
      ]
    },
    {
      "cell_type": "markdown",
      "metadata": {
        "id": "4DWUmwmnoT05",
        "colab_type": "text"
      },
      "source": [
        "# Работа"
      ]
    },
    {
      "cell_type": "code",
      "metadata": {
        "id": "cxWp0zqerPUE",
        "colab_type": "code",
        "colab": {}
      },
      "source": [
        "import pandas as pd"
      ],
      "execution_count": 0,
      "outputs": []
    },
    {
      "cell_type": "code",
      "metadata": {
        "id": "bzPo7lQKrT0X",
        "colab_type": "code",
        "colab": {
          "base_uri": "https://localhost:8080/",
          "height": 197
        },
        "outputId": "b0340965-e8da-4440-8bc0-ed8fd20345b0"
      },
      "source": [
        "bads = pd.read_parquet('bads_fixed.parquet')\n",
        "bads.head()"
      ],
      "execution_count": 35,
      "outputs": [
        {
          "output_type": "execute_result",
          "data": {
            "text/html": [
              "<div>\n",
              "<style scoped>\n",
              "    .dataframe tbody tr th:only-of-type {\n",
              "        vertical-align: middle;\n",
              "    }\n",
              "\n",
              "    .dataframe tbody tr th {\n",
              "        vertical-align: top;\n",
              "    }\n",
              "\n",
              "    .dataframe thead th {\n",
              "        text-align: right;\n",
              "    }\n",
              "</style>\n",
              "<table border=\"1\" class=\"dataframe\">\n",
              "  <thead>\n",
              "    <tr style=\"text-align: right;\">\n",
              "      <th></th>\n",
              "      <th>id</th>\n",
              "      <th>address</th>\n",
              "    </tr>\n",
              "  </thead>\n",
              "  <tbody>\n",
              "    <tr>\n",
              "      <th>0</th>\n",
              "      <td>20000001</td>\n",
              "      <td>115280, г. Москва, ул. Восточная, д. 9 этаж 1 ...</td>\n",
              "    </tr>\n",
              "    <tr>\n",
              "      <th>1</th>\n",
              "      <td>20000002</td>\n",
              "      <td>115280, г. Москва, ул. Ленинская Слобода, д. 2...</td>\n",
              "    </tr>\n",
              "    <tr>\n",
              "      <th>2</th>\n",
              "      <td>20000003</td>\n",
              "      <td>117105, г. Москва, шоссе Варшавское, д. 1 стр....</td>\n",
              "    </tr>\n",
              "    <tr>\n",
              "      <th>3</th>\n",
              "      <td>20000004</td>\n",
              "      <td>117321, г. Москва, ул. Профсоюзная, д. 128, ко...</td>\n",
              "    </tr>\n",
              "    <tr>\n",
              "      <th>4</th>\n",
              "      <td>20000005</td>\n",
              "      <td>121357, г. Москва, ул. Нежинская, д. 1 корп. 4...</td>\n",
              "    </tr>\n",
              "  </tbody>\n",
              "</table>\n",
              "</div>"
            ],
            "text/plain": [
              "         id                                            address\n",
              "0  20000001  115280, г. Москва, ул. Восточная, д. 9 этаж 1 ...\n",
              "1  20000002  115280, г. Москва, ул. Ленинская Слобода, д. 2...\n",
              "2  20000003  117105, г. Москва, шоссе Варшавское, д. 1 стр....\n",
              "3  20000004  117321, г. Москва, ул. Профсоюзная, д. 128, ко...\n",
              "4  20000005  121357, г. Москва, ул. Нежинская, д. 1 корп. 4..."
            ]
          },
          "metadata": {
            "tags": []
          },
          "execution_count": 35
        }
      ]
    },
    {
      "cell_type": "code",
      "metadata": {
        "id": "lTBL-16Wrgd9",
        "colab_type": "code",
        "colab": {}
      },
      "source": [
        "fixed_addresses = p.preprocess(bads['address'].values)"
      ],
      "execution_count": 0,
      "outputs": []
    },
    {
      "cell_type": "code",
      "metadata": {
        "id": "ixpPiFpQkUB8",
        "colab_type": "code",
        "colab": {}
      },
      "source": [
        "bads['address'].values"
      ],
      "execution_count": 0,
      "outputs": []
    },
    {
      "cell_type": "code",
      "metadata": {
        "id": "GK2E0LvA3trk",
        "colab_type": "code",
        "colab": {
          "base_uri": "https://localhost:8080/",
          "height": 123
        },
        "outputId": "5e6708a5-1de9-43eb-9b3b-9bb6df1a455e"
      },
      "source": [
        "fixed_addresses[::10]"
      ],
      "execution_count": 40,
      "outputs": [
        {
          "output_type": "execute_result",
          "data": {
            "text/plain": [
              "array(['115280,г. москва,ул. восточная,дом 9 этаж 1 помещение 4 ком. 1',\n",
              "       '20000011;117105,г. москва,шоссе варшавское,дом 1 строение 6 этаж 2 ком. 36,а205(бц w plaza 2)',\n",
              "       '142784,московская область,городом балашиха,дер.черное,кв-л. 1,дом 52,корпус админист,оф. зао а',\n",
              "       ..., 'улица сущёвский вал,5с21,москва,россия',\n",
              "       'улица яблочкова,21к3,москва,россия',\n",
              "       'ш. энтузиастов,дом 2,строение 44'], dtype='<U297')"
            ]
          },
          "metadata": {
            "tags": []
          },
          "execution_count": 40
        }
      ]
    },
    {
      "cell_type": "code",
      "metadata": {
        "id": "sI44KmoJoWHw",
        "colab_type": "code",
        "colab": {}
      },
      "source": [
        "pd.DataFrame(fixed_addresses[::10]).to_csv('fixed_addresses.csv')\n"
      ],
      "execution_count": 0,
      "outputs": []
    },
    {
      "cell_type": "code",
      "metadata": {
        "id": "7lq1Ubfsnd2h",
        "colab_type": "code",
        "colab": {}
      },
      "source": [
        "# Реализация оболочки"
      ],
      "execution_count": 0,
      "outputs": []
    }
  ]
}